{
 "cells": [
  {
   "cell_type": "markdown",
   "metadata": {},
   "source": [
    "# main，讀資料"
   ]
  },
  {
   "cell_type": "code",
   "execution_count": 5,
   "metadata": {
    "scrolled": false
   },
   "outputs": [
    {
     "name": "stdout",
     "output_type": "stream",
     "text": [
      "lse:\n",
      "Fitting line: 0.8345332827002807X^2 + 0.09314819831920743X^1 + 0.04695069927341984\n",
      "Total error:  22649.738493024248\n",
      "\n",
      "Newton's Method:\n",
      "Fitting line: 3.023853393486569X^2 + 4.906190263863799X^1 + -0.23140175608769947\n",
      "Total error:  26.55995949933307\n"
     ]
    },
    {
     "data": {
      "image/png": "[encoded data removed]",
      "text/plain": [
       "<Figure size 432x288 with 2 Axes>"
      ]
     },
     "metadata": {
      "needs_background": "light"
     },
     "output_type": "display_data"
    }
   ],
   "source": [
    "import os\n",
    "import numpy as np\n",
    "from algo import lse, newton\n",
    "from plot import print_fittingline_totalerror, plot\n",
    "\n",
    "# 輸入需要訊息\n",
    "path = \"D:/NYCU/NYCU-MachineLearning/HW1\" #input('path = ')\n",
    "name = \"testfile.txt\" #input('name = ')\n",
    "n = 3 #int(input('n = '))\n",
    "Lambda = 10000 #int(input('Lambda = '))\n",
    "\n",
    "# 讀資料\n",
    "x0=[]\n",
    "b=[]\n",
    "filepath = os.path.join(path, name)\n",
    "with open(filepath) as f:\n",
    "    for line in f.readlines():\n",
    "        s = line.split(',')\n",
    "        x0.append(float(s[0]))\n",
    "        b.append(float(s[1]))\n",
    "\n",
    "# 做矩陣A\n",
    "A = []\n",
    "for v in x0:\n",
    "    r = []\n",
    "    for i in range(n):\n",
    "        r.append(v ** i)\n",
    "    A.append(r)\n",
    "\n",
    "A = np.array(A)\n",
    "b = np.array(b).reshape((-1,1))\n",
    "\n",
    "# lse\n",
    "print(\"lse:\")\n",
    "parameters_lse, loss_lse = lse(A, b, n, Lambda)\n",
    "print_fittingline_totalerror(n-1, parameters_lse, loss_lse)\n",
    "print()\n",
    "\n",
    "# Netwon's method\n",
    "print(\"Newton's Method:\")\n",
    "parameters_newton, loss_newton = newton(A, b, n)\n",
    "print_fittingline_totalerror(n-1, parameters_newton, loss_newton)\n",
    "\n",
    "# plot\n",
    "plot(x0, b, parameters_lse, parameters_newton)"
   ]
  },
  {
   "cell_type": "code",
   "execution_count": null,
   "metadata": {},
   "outputs": [],
   "source": []
  },
  {
   "cell_type": "markdown",
   "metadata": {},
   "source": [
    "# tool 反矩陣(inverse)"
   ]
  },
  {
   "cell_type": "code",
   "execution_count": 2,
   "metadata": {},
   "outputs": [],
   "source": [
    "import numpy as np\n",
    "\n",
    "def eliminate(r1, r2, col, target=0):\n",
    "    fac = (r2[col]-target) / r1[col]\n",
    "    for i in range(len(r2)):\n",
    "        r2[i] -= fac * r1[i]\n",
    "\n",
    "\n",
    "def gauss(a): \n",
    "    # 1. 把矩陣變上三角矩陣\n",
    "    for i in range(len(a)):\n",
    "        if a[i][i] == 0:        # 對角線是0，和下面一列交換\n",
    "            for j in range(i+1, len(a)):\n",
    "                if a[i][j] != 0:\n",
    "                    a[i], a[j] = a[j], a[i]\n",
    "                    break\n",
    "            else:\n",
    "                raise ValueError(\"Matrix is not invertible\")\n",
    "        \n",
    "        for j in range(i+1, len(a)):\n",
    "            eliminate(a[i], a[j], i)\n",
    "    \n",
    "    # 2. 把上三角形矩陣變對角矩陣(由下往上丟列)\n",
    "    for i in range(len(a)-1, -1, -1):\n",
    "        for j in range(i-1, -1, -1):\n",
    "            eliminate(a[i], a[j], i)\n",
    "    \n",
    "    # 3. 把對角矩陣變單位矩陣\n",
    "    for i in range(len(a)):\n",
    "        eliminate(a[i], a[i], i, target=1)\n",
    "    return a\n",
    "\n",
    "\n",
    "def inverse(a):\n",
    "    tmp = [[] for _ in a]\n",
    "    for i, row in enumerate(a):\n",
    "        assert len(row) == len(a)                             # 行、列同維\n",
    "        row = list(row)                                       # array轉list\n",
    "        tmp[i].extend(row + [0]*i + [1] + [0]*(len(a)-i-1))   # 補identity matrix於右邊\n",
    "    gauss(tmp)\n",
    "    ret = []\n",
    "    for i in range(len(tmp)):\n",
    "        ret.append(tmp[i][len(tmp[i])//2:])\n",
    "    return np.array(ret)"
   ]
  },
  {
   "cell_type": "code",
   "execution_count": null,
   "metadata": {},
   "outputs": [],
   "source": []
  },
  {
   "cell_type": "markdown",
   "metadata": {},
   "source": [
    "# algo(lse&newton)"
   ]
  },
  {
   "cell_type": "code",
   "execution_count": null,
   "metadata": {},
   "outputs": [],
   "source": [
    "import numpy as np\n",
    "from matrixTool import inverse\n",
    "\n",
    "def matrixMul(A, B):\n",
    "    return A.dot(B)\n",
    "\n",
    "\n",
    "def lossValue(A, x, b):\n",
    "    return np.sum(np.square( matrixMul(A, x) - b))\n",
    "\n",
    "\n",
    "def lse(A, b, n, Lambda):\n",
    "    x = matrixMul(matrixMul(inverse(matrixMul(A.T, A) + Lambda * np.identity(n)), A.T), b)    # 公式: x=(At*A+lambda*I)^-1*At*b\n",
    "    loss_value = lossValue(A, x, b)\n",
    "    return x, loss_value\n",
    "\n",
    "\n",
    "def newton(A, b, n):\n",
    "    # 初始 x\n",
    "    x0 = np.random.rand(n, 1)\n",
    "    eps = 100\n",
    "    while eps>1e-6: \n",
    "        x1 = x0 - matrixMul(inverse(2 * matrixMul(A.T, A)) , (2 * matrixMul(matrixMul(A.T, A), x0) - 2 * matrixMul(A.T, b)))    # 公式: x1 = x0-(2*A^t*A)^-1)*(2*A^t*A*x0-2*A^t*b) \n",
    "        eps = abs(np.sum(np.square(x1-x0))/n)    # 小於0.000001就停止，相信已在最佳點\n",
    "        x0 = x1\n",
    "\n",
    "    loss_value = lossValue(A, x0, b)\n",
    "    return x0, loss_value"
   ]
  },
  {
   "cell_type": "code",
   "execution_count": null,
   "metadata": {},
   "outputs": [],
   "source": []
  },
  {
   "cell_type": "markdown",
   "metadata": {},
   "source": [
    "# 畫圖(plot)"
   ]
  },
  {
   "cell_type": "code",
   "execution_count": null,
   "metadata": {},
   "outputs": [],
   "source": [
    "import numpy as np\n",
    "import matplotlib.pyplot as plt\n",
    "\n",
    "\n",
    "def print_fittingline_totalerror(n, parameters, loss):\n",
    "    print(\"Fitting line: \", end = '')\n",
    "\n",
    "    parameters = list(parameters)[::-1]     # 因為參數要從高維到低維，所以順序倒過來\n",
    "    for i, parameter in enumerate(parameters):\n",
    "        if n-i == 0:\n",
    "            print(parameter[0])\n",
    "        else:\n",
    "            print(str(parameter[0]) + \"X^{}\".format(n-i) + ' + ', end='')\n",
    "\n",
    "    print('Total error: ', loss)\n",
    "\n",
    "\n",
    "def plot(x0, b, parameters_lse, parameters_newton):\n",
    "    # lse\n",
    "    plt.subplot(2, 1, 1)\n",
    "    plt.title('lse')\n",
    "    plt.plot(x0, b, 'ro')\n",
    "    x0_min = min(x0)\n",
    "    x0_max = max(x0)   \n",
    "    x = np.arange(x0_min-1, x0_max+1, 0.1)            # x軸點數(畫線)， 0.1是間格\n",
    "    y = np.zeros(x.shape)\n",
    "    for i in range(len(parameters_lse)):\n",
    "        y += parameters_lse[i] * np.power(x,i)        # y軸數值(依照fittingline計算)\n",
    "    plt.plot(x, y, '-k')\n",
    "\n",
    "    #newton\n",
    "    plt.subplot(2, 1, 2)\n",
    "    plt.title(\"newton's method\")\n",
    "    plt.plot(x0, b, 'ro')\n",
    "    y = np.zeros(x.shape)\n",
    "    for i in range(len(parameters_newton)):\n",
    "        y += parameters_newton[i] * np.power(x, i)\n",
    "    plt.plot(x, y, '-k')\n",
    "    plt.show()"
   ]
  }
 ],
 "metadata": {
  "kernelspec": {
   "display_name": "Python 3",
   "language": "python",
   "name": "python3"
  },
  "language_info": {
   "codemirror_mode": {
    "name": "ipython",
    "version": 3
   },
   "file_extension": ".py",
   "mimetype": "text/x-python",
   "name": "python",
   "nbconvert_exporter": "python",
   "pygments_lexer": "ipython3",
   "version": "3.8.8"
  }
 },
 "nbformat": 4,
 "nbformat_minor": 4
}
