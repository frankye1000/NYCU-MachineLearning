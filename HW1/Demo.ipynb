{
 "cells": [
  {
   "cell_type": "code",
   "execution_count": null,
   "metadata": {},
   "outputs": [],
   "source": [
    "import os\n",
    "import numpy as np\n",
    "from algo import lse, newton\n",
    "from plot import print_fittingline_totalerror, plot\n",
    "\n",
    "# 輸入需要訊息\n",
    "path = input('path = ')\n",
    "name = input('name = ')\n",
    "n = int(input('n = '))\n",
    "Lambda = int(input('Lambda = '))\n",
    "\n",
    "# 讀資料\n",
    "x0=[]\n",
    "b=[]\n",
    "filepath = os.path.join(path, name)\n",
    "with open(filepath) as f:\n",
    "    for line in f.readlines():\n",
    "        s = line.split(',')\n",
    "        x0.append(float(s[0]))\n",
    "        b.append(float(s[1]))\n",
    "\n",
    "# 做矩陣A\n",
    "A = []\n",
    "for v in x0:\n",
    "    r = []\n",
    "    for i in range(n):\n",
    "        r.append(v ** i)\n",
    "    A.append(r)\n",
    "\n",
    "A = np.array(A)\n",
    "b = np.array(b).reshape((-1,1))\n",
    "\n",
    "# lse\n",
    "print(\"lse:\")\n",
    "parameters_lse, loss_lse = lse(A, b, n, Lambda)\n",
    "print_fittingline_totalerror(n-1, parameters_lse, loss_lse)\n",
    "print()\n",
    "\n",
    "# Netwon's method\n",
    "print(\"Newton's Method:\")\n",
    "parameters_newton, loss_newton = newton(A, b, n)\n",
    "print_fittingline_totalerror(n-1, parameters_newton, loss_newton)\n",
    "\n",
    "# plot\n",
    "plot(x0, b, parameters_lse, parameters_newton)"
   ]
  },
  {
   "cell_type": "code",
   "execution_count": null,
   "metadata": {},
   "outputs": [],
   "source": []
  },
  {
   "cell_type": "code",
   "execution_count": 5,
   "metadata": {},
   "outputs": [],
   "source": [
    "import numpy as np\n",
    "\n",
    "def eliminate(r1, r2, col, target=0):\n",
    "    fac = (r2[col]-target) / r1[col]\n",
    "    for i in range(len(r2)):\n",
    "        r2[i] -= fac * r1[i]\n",
    "\n",
    "\n",
    "def gauss(a): \n",
    "    # 1. 把矩陣變上三角矩陣\n",
    "    for i in range(len(a)):\n",
    "        if a[i][i] == 0:        # 對角線是0，和下面一列交換\n",
    "            for j in range(i+1, len(a)):\n",
    "                if a[i][j] != 0:\n",
    "                    a[i], a[j] = a[j], a[i]\n",
    "                    print(a)\n",
    "                    break\n",
    "            else:\n",
    "                raise ValueError(\"Matrix is not invertible\")\n",
    "        \n",
    "        for j in range(i+1, len(a)):\n",
    "            eliminate(a[i], a[j], i)\n",
    "    \n",
    "    # 2. 把上三角形矩陣變對角矩陣(由下往上丟列)\n",
    "    for i in range(len(a)-1, -1, -1):\n",
    "        for j in range(i-1, -1, -1):\n",
    "            eliminate(a[i], a[j], i)\n",
    "    \n",
    "    # 3. 把對角矩陣變單位矩陣\n",
    "    for i in range(len(a)):\n",
    "        eliminate(a[i], a[i], i, target=1)\n",
    "    return a\n",
    "\n",
    "\n",
    "def inverse(a):\n",
    "    tmp = [[] for _ in a]\n",
    "    for i, row in enumerate(a):\n",
    "        assert len(row) == len(a)                             # 行、列同維\n",
    "        row = list(row)                                       # array轉list\n",
    "        tmp[i].extend(row + [0]*i + [1] + [0]*(len(a)-i-1))   # 補identity matrix於右邊\n",
    "    gauss(tmp)\n",
    "    ret = []\n",
    "    for i in range(len(tmp)):\n",
    "        ret.append(tmp[i][len(tmp[i])//2:])\n",
    "    return np.array(ret)"
   ]
  },
  {
   "cell_type": "code",
   "execution_count": 12,
   "metadata": {},
   "outputs": [
    {
     "name": "stdout",
     "output_type": "stream",
     "text": [
      "[[   4    9 1888]\n",
      " [   4    9 1888]\n",
      " [   1    7    8]]\n"
     ]
    },
    {
     "ename": "ValueError",
     "evalue": "Matrix is not invertible",
     "output_type": "error",
     "traceback": [
      "\u001b[1;31m---------------------------------------------------------------------------\u001b[0m",
      "\u001b[1;31mValueError\u001b[0m                                Traceback (most recent call last)",
      "\u001b[1;32m<ipython-input-12-b6f13f2eee28>\u001b[0m in \u001b[0;36m<module>\u001b[1;34m\u001b[0m\n\u001b[0;32m      4\u001b[0m               [1,7,8]])\n\u001b[0;32m      5\u001b[0m \u001b[1;33m\u001b[0m\u001b[0m\n\u001b[1;32m----> 6\u001b[1;33m \u001b[0mgauss\u001b[0m\u001b[1;33m(\u001b[0m\u001b[0mA\u001b[0m\u001b[1;33m)\u001b[0m\u001b[1;33m\u001b[0m\u001b[1;33m\u001b[0m\u001b[0m\n\u001b[0m",
      "\u001b[1;32m<ipython-input-5-cfb627f2869d>\u001b[0m in \u001b[0;36mgauss\u001b[1;34m(a)\u001b[0m\n\u001b[0;32m     17\u001b[0m                     \u001b[1;32mbreak\u001b[0m\u001b[1;33m\u001b[0m\u001b[1;33m\u001b[0m\u001b[0m\n\u001b[0;32m     18\u001b[0m             \u001b[1;32melse\u001b[0m\u001b[1;33m:\u001b[0m\u001b[1;33m\u001b[0m\u001b[1;33m\u001b[0m\u001b[0m\n\u001b[1;32m---> 19\u001b[1;33m                 \u001b[1;32mraise\u001b[0m \u001b[0mValueError\u001b[0m\u001b[1;33m(\u001b[0m\u001b[1;34m\"Matrix is not invertible\"\u001b[0m\u001b[1;33m)\u001b[0m\u001b[1;33m\u001b[0m\u001b[1;33m\u001b[0m\u001b[0m\n\u001b[0m\u001b[0;32m     20\u001b[0m \u001b[1;33m\u001b[0m\u001b[0m\n\u001b[0;32m     21\u001b[0m         \u001b[1;32mfor\u001b[0m \u001b[0mj\u001b[0m \u001b[1;32min\u001b[0m \u001b[0mrange\u001b[0m\u001b[1;33m(\u001b[0m\u001b[0mi\u001b[0m\u001b[1;33m+\u001b[0m\u001b[1;36m1\u001b[0m\u001b[1;33m,\u001b[0m \u001b[0mlen\u001b[0m\u001b[1;33m(\u001b[0m\u001b[0ma\u001b[0m\u001b[1;33m)\u001b[0m\u001b[1;33m)\u001b[0m\u001b[1;33m:\u001b[0m\u001b[1;33m\u001b[0m\u001b[1;33m\u001b[0m\u001b[0m\n",
      "\u001b[1;31mValueError\u001b[0m: Matrix is not invertible"
     ]
    }
   ],
   "source": [
    "import numpy as np\n",
    "A = np.array([[0,1,1],\n",
    "              [1,1,1],\n",
    "              [1,7,8]])\n",
    "\n",
    "gauss(A)"
   ]
  },
  {
   "cell_type": "code",
   "execution_count": null,
   "metadata": {},
   "outputs": [],
   "source": []
  }
 ],
 "metadata": {
  "kernelspec": {
   "display_name": "Python 3",
   "language": "python",
   "name": "python3"
  },
  "language_info": {
   "codemirror_mode": {
    "name": "ipython",
    "version": 3
   },
   "file_extension": ".py",
   "mimetype": "text/x-python",
   "name": "python",
   "nbconvert_exporter": "python",
   "pygments_lexer": "ipython3",
   "version": "3.8.5"
  }
 },
 "nbformat": 4,
 "nbformat_minor": 4
}
