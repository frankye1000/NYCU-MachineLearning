{
 "cells": [
  {
   "cell_type": "markdown",
   "id": "e582d51d",
   "metadata": {},
   "source": [
    "# EM algorithm\n",
    "參考:https://mlbhanuyerra.github.io/2018-01-28-Handwritten-Digits_Mixture-of-Bernoulli-Distributions/"
   ]
  },
  {
   "cell_type": "code",
   "execution_count": 26,
   "id": "1041047c",
   "metadata": {},
   "outputs": [],
   "source": [
    "import numpy as np\n",
    "import pandas as pd \n",
    "from loadMnist import load_images, load_labels"
   ]
  },
  {
   "cell_type": "code",
   "execution_count": 27,
   "id": "1c87bf75",
   "metadata": {},
   "outputs": [],
   "source": [
    "# HW3讀資料\n",
    "train_data = load_images(\"data/train-images.idx3-ubyte\")\n",
    "true       = load_labels(\"data/train-labels.idx1-ubyte\")"
   ]
  },
  {
   "cell_type": "code",
   "execution_count": 28,
   "id": "9e11b456",
   "metadata": {},
   "outputs": [],
   "source": [
    "# train_data to 0/1 矩陣\n",
    "train_data[train_data > 0] = 1"
   ]
  },
  {
   "cell_type": "code",
   "execution_count": 16,
   "id": "8a25beb2",
   "metadata": {},
   "outputs": [],
   "source": [
    "# 每個類別出現機率lambda(L)\n",
    "# L:(10,1)\n",
    "L = np.random.rand(10)\n",
    "L = L/L.sum()\n",
    "\n",
    "# 每個類別 每個pixel的機率\n",
    "# P:(10, 784)\n",
    "P = np.random.rand(10, 784)\n"
   ]
  },
  {
   "cell_type": "code",
   "execution_count": 17,
   "id": "0ff4094e",
   "metadata": {
    "scrolled": true
   },
   "outputs": [],
   "source": [
    "# E step\n",
    "def Estep(train_data, P, L):\n",
    "    # 更新計算每張圖片 每個類別的Bernoulli機率分布\n",
    "    W = np.zeros((60000, 10))\n",
    "    for i in range(60000):\n",
    "        for j in range(10):\n",
    "            # 一張圖片(i) 一個類別(j) 每個pixel機率相乘 \n",
    "            W[i, j] = np.prod( train_data[i] * P[j] + \n",
    "                             (1 - train_data[i]) * (1 - P[j])\n",
    "                            )\n",
    "\n",
    "\n",
    "    # 計算每個類別的responsibility\n",
    "    W = W * L.reshape(1, -1)   # L變(1, 10)\n",
    "    row_sums = np.sum(W,axis=1).reshape(-1,1)\n",
    "    row_sums[row_sums==0] = 1\n",
    "    W = W / row_sums\n",
    "    \n",
    "    return W"
   ]
  },
  {
   "cell_type": "code",
   "execution_count": 6,
   "id": "eb98d3ba",
   "metadata": {},
   "outputs": [],
   "source": [
    "# M-step\n",
    "def Mstep(W, train_data):\n",
    "    # 更新 每個類別出現機率lambda(L)\n",
    "    L = (W.sum(axis=0) / 60000).T\n",
    "\n",
    "    # 更新 P\n",
    "    col_sums = np.sum(W, axis=0)\n",
    "    col_sums[col_sums==0] = 1\n",
    "    W_normalized = W/col_sums\n",
    "    P = (train_data.T@W_normalized).T\n",
    "    return L, P"
   ]
  },
  {
   "cell_type": "code",
   "execution_count": null,
   "id": "77227ac3",
   "metadata": {},
   "outputs": [],
   "source": []
  },
  {
   "cell_type": "code",
   "execution_count": 18,
   "id": "1c905601",
   "metadata": {
    "scrolled": true
   },
   "outputs": [
    {
     "name": "stdout",
     "output_type": "stream",
     "text": [
      "No. of Iteration: 1 , Difference: 3252.598972091834\n",
      "No. of Iteration: 2 , Difference: 260.47783653265014\n",
      "No. of Iteration: 3 , Difference: 104.97206466702296\n",
      "No. of Iteration: 4 , Difference: 64.73169533664179\n",
      "No. of Iteration: 5 , Difference: 50.03857371683139\n",
      "No. of Iteration: 6 , Difference: 35.870180224859546\n",
      "No. of Iteration: 7 , Difference: 23.878947309638924\n",
      "No. of Iteration: 8 , Difference: 16.84308972233303\n",
      "No. of Iteration: 9 , Difference: 12.411290419187356\n",
      "No. of Iteration: 10 , Difference: 9.058199349615675\n",
      "No. of Iteration: 11 , Difference: 7.412604512808731\n",
      "No. of Iteration: 12 , Difference: 6.321506961075096\n",
      "No. of Iteration: 13 , Difference: 5.697720986481477\n"
     ]
    }
   ],
   "source": [
    "# 迭代開始:\n",
    "new_diff = 100\n",
    "diff = 10\n",
    "iter_converge_no = 1\n",
    "\n",
    "for i in range(1, 1000):\n",
    "    W            = Estep(train_data, P, L)\n",
    "    new_L, new_P = Mstep(W, train_data)\n",
    "    new_diff     = np.sum(np.abs(L - new_L)) + np.sum(np.abs(P - new_P))\n",
    "    \n",
    "    if abs(new_diff-diff) < 1:  # 定義收斂\n",
    "        iter_converge_no = i    # 收斂次數\n",
    "        print('No. of Iteration: {}'.format(i), ', Difference: {}'.format(new_diff))\n",
    "        L    = new_L\n",
    "        P    = new_P\n",
    "        break\n",
    "    else:\n",
    "        print('No. of Iteration: {}'.format(i), ', Difference: {}'.format(new_diff))\n",
    "        L    = new_L\n",
    "        P    = new_P\n",
    "        diff = new_diff"
   ]
  },
  {
   "cell_type": "code",
   "execution_count": 8,
   "id": "6003fafd",
   "metadata": {},
   "outputs": [],
   "source": [
    "# 預測\n",
    "predict = np.argmax(W, axis=1)"
   ]
  },
  {
   "cell_type": "code",
   "execution_count": 9,
   "id": "09be5450",
   "metadata": {
    "scrolled": true
   },
   "outputs": [
    {
     "name": "stdout",
     "output_type": "stream",
     "text": [
      "Confusion Matrix:  0\n",
      "                Predict number 0  Predict not number 0\n",
      "Is number 0                    5                  5918\n",
      "Isn't number 0              6049                 48028\n",
      "\n",
      "Sensitivity (Successfully predict number 0): 0.0008441668073611346\n",
      "Specificity (Successfully predict number 0): 0.8881409841522274\n",
      "\n",
      "---------------------------------------------------\n",
      "Confusion Matrix:  1\n",
      "                Predict number 1  Predict not number 1\n",
      "Is number 1                   36                 12629\n",
      "Isn't number 1             16179                 91156\n",
      "\n",
      "Sensitivity (Successfully predict number 1): 0.0028424792735886302\n",
      "Specificity (Successfully predict number 1): 0.8492663157404388\n",
      "\n",
      "---------------------------------------------------\n",
      "Confusion Matrix:  2\n",
      "                Predict number 2  Predict not number 2\n",
      "Is number 2                  428                 18195\n",
      "Isn't number 2             24967                136410\n",
      "\n",
      "Sensitivity (Successfully predict number 2): 0.022982333673414596\n",
      "Specificity (Successfully predict number 2): 0.8452877423672518\n",
      "\n",
      "---------------------------------------------------\n",
      "Confusion Matrix:  3\n",
      "                Predict number 3  Predict not number 3\n",
      "Is number 3                  428                 24326\n",
      "Isn't number 3             24967                190279\n",
      "\n",
      "Sensitivity (Successfully predict number 3): 0.017290134927688456\n",
      "Specificity (Successfully predict number 3): 0.8840071360211107\n",
      "\n",
      "---------------------------------------------------\n",
      "Confusion Matrix:  4\n",
      "                Predict number 4  Predict not number 4\n",
      "Is number 4                  466                 30130\n",
      "Isn't number 4             28464                240940\n",
      "\n",
      "Sensitivity (Successfully predict number 4): 0.015230749117531703\n",
      "Specificity (Successfully predict number 4): 0.8943445531617942\n",
      "\n",
      "---------------------------------------------------\n",
      "Confusion Matrix:  5\n",
      "                Predict number 5  Predict not number 5\n",
      "Is number 5                 2636                 33381\n",
      "Isn't number 5             34965                289018\n",
      "\n",
      "Sensitivity (Successfully predict number 5): 0.07318766138212511\n",
      "Specificity (Successfully predict number 5): 0.8920776707419834\n",
      "\n",
      "---------------------------------------------------\n",
      "Confusion Matrix:  6\n",
      "                Predict number 6  Predict not number 6\n",
      "Is number 6                 2854                 39081\n",
      "Isn't number 6             42031                336034\n",
      "\n",
      "Sensitivity (Successfully predict number 6): 0.06805770835817336\n",
      "Specificity (Successfully predict number 6): 0.8888259955298692\n",
      "\n",
      "---------------------------------------------------\n",
      "Confusion Matrix:  7\n",
      "                Predict number 7  Predict not number 7\n",
      "Is number 7                 2867                 45333\n",
      "Isn't number 7             45545                386255\n",
      "\n",
      "Sensitivity (Successfully predict number 7): 0.059481327800829875\n",
      "Specificity (Successfully predict number 7): 0.8945229272811487\n",
      "\n",
      "---------------------------------------------------\n",
      "Confusion Matrix:  8\n",
      "                Predict number 8  Predict not number 8\n",
      "Is number 8                 2888                 51163\n",
      "Isn't number 8             49714                436235\n",
      "\n",
      "Sensitivity (Successfully predict number 8): 0.05343101885256517\n",
      "Specificity (Successfully predict number 8): 0.8976970834387971\n",
      "\n",
      "---------------------------------------------------\n",
      "Confusion Matrix:  9\n",
      "                Predict number 9  Predict not number 9\n",
      "Is number 9                 2895                 57105\n",
      "Isn't number 9             57105                482895\n",
      "\n",
      "Sensitivity (Successfully predict number 9): 0.04825\n",
      "Specificity (Successfully predict number 9): 0.89425\n",
      "\n",
      "---------------------------------------------------\n",
      "Total iteration to converge:  12\n",
      "Total error rate:  0.95175\n"
     ]
    }
   ],
   "source": [
    "TP, FP, FN, TN = 0, 0, 0, 0\n",
    "# 計算confusion matrix\n",
    "for i in range(10):\n",
    "    for j in range(60000):\n",
    "        if predict[j] == i:  # i類別\n",
    "            if predict[j] == true[j]:\n",
    "                TP += 1\n",
    "            else:            # predict[j] != true[j]\n",
    "                FN += 1\n",
    "        else:\n",
    "            if true[j] == i:\n",
    "                FP += 1\n",
    "            else:\n",
    "                TN += 1\n",
    "                    \n",
    "    # \n",
    "    print(\"Confusion Matrix: \", i)\n",
    "    confusion_matrix = pd.DataFrame([[TP, FP], [FN, TN]], \n",
    "                                    index=(\"Is number {}\".format(i), \"Isn't number {}\".format(i)),\n",
    "                                    columns=(\"Predict number {}\".format(i), \"Predict not number {}\".format(i)))\n",
    "    print(confusion_matrix)\n",
    "    print()\n",
    "    print(\"Sensitivity (Successfully predict number {}): {}\".format(i, TP/(TP+FP)))\n",
    "    print(\"Specificity (Successfully predict number {}): {}\".format(i, TN/(FN+TN)))\n",
    "    print()\n",
    "    print(\"---------------------------------------------------\")\n",
    "\n",
    "print(\"Total iteration to converge: \", iter_converge_no)\n",
    "print(\"Total error rate: \", (predict!=true).sum()/60000)"
   ]
  },
  {
   "cell_type": "code",
   "execution_count": null,
   "id": "13274956",
   "metadata": {},
   "outputs": [],
   "source": []
  },
  {
   "cell_type": "code",
   "execution_count": null,
   "id": "3144ce79",
   "metadata": {},
   "outputs": [],
   "source": []
  },
  {
   "cell_type": "code",
   "execution_count": null,
   "id": "2c86966c",
   "metadata": {},
   "outputs": [],
   "source": []
  },
  {
   "cell_type": "code",
   "execution_count": null,
   "id": "5327375e",
   "metadata": {},
   "outputs": [],
   "source": []
  }
 ],
 "metadata": {
  "kernelspec": {
   "display_name": "Python 3",
   "language": "python",
   "name": "python3"
  },
  "language_info": {
   "codemirror_mode": {
    "name": "ipython",
    "version": 3
   },
   "file_extension": ".py",
   "mimetype": "text/x-python",
   "name": "python",
   "nbconvert_exporter": "python",
   "pygments_lexer": "ipython3",
   "version": "3.8.8"
  }
 },
 "nbformat": 4,
 "nbformat_minor": 5
}
