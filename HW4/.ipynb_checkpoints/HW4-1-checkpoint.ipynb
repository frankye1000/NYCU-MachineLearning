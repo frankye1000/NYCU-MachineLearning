{
 "cells": [
  {
   "cell_type": "markdown",
   "id": "d88c8ad6",
   "metadata": {},
   "source": [
    "# Logistic regression"
   ]
  },
  {
   "cell_type": "code",
   "execution_count": 1,
   "id": "28f9c58e",
   "metadata": {},
   "outputs": [],
   "source": [
    "import numpy as np\n",
    "from math import sqrt, log\n",
    "from matrixTool import inverse\n",
    "from matplotlib import pyplot as plt\n",
    "import pandas as pd"
   ]
  },
  {
   "cell_type": "code",
   "execution_count": 2,
   "id": "c6d071c1",
   "metadata": {},
   "outputs": [],
   "source": [
    "# 輸入參數\n",
    "N = 50\n",
    "mx1 = 1\n",
    "my1 = 1\n",
    "mx2 = 3\n",
    "my2 = 3\n",
    "vx1 = 2\n",
    "vy1 = 2\n",
    "vx2 = 4\n",
    "vy2 = 4"
   ]
  },
  {
   "cell_type": "code",
   "execution_count": 3,
   "id": "3d7c8360",
   "metadata": {},
   "outputs": [],
   "source": [
    "# 利用HW3產生高斯分佈的數據\n",
    "def gaussian_data_generator(m, s):\n",
    "    while(True):\n",
    "        U = np.random.uniform(-1, 1)\n",
    "        V = np.random.uniform(-1, 1)\n",
    "        S = U**2 + V**2   # 規定S要小於1\n",
    "        if S < 1:\n",
    "            break\n",
    "        \n",
    "    Z = U * sqrt((-2) * log(S) / S)\n",
    "    p = m + sqrt(s) * Z\n",
    "    return p"
   ]
  },
  {
   "cell_type": "code",
   "execution_count": 4,
   "id": "06eb87de",
   "metadata": {},
   "outputs": [],
   "source": [
    "# 依照給定的x、y軸mean&variance，製作guassian sample data points: D1、D2\n",
    "def sample_point(N, mx, vx, my, vy):\n",
    "    D = []\n",
    "    for i in range(N):\n",
    "        x = gaussian_data_generator(mx, vx)\n",
    "        y = gaussian_data_generator(my, vy)\n",
    "        D.append([x, y])\n",
    "    return np.array(D)"
   ]
  },
  {
   "cell_type": "code",
   "execution_count": 5,
   "id": "34e70592",
   "metadata": {},
   "outputs": [],
   "source": [
    "D1 = sample_point(N, mx1, vx1, my1, vy1)\n",
    "D2 = sample_point(N, mx2, vx2, my2, vy2)"
   ]
  },
  {
   "cell_type": "code",
   "execution_count": 6,
   "id": "a9bc263c",
   "metadata": {
    "scrolled": true
   },
   "outputs": [],
   "source": [
    "# 製作A矩陣\n",
    "one = np.ones((N*2, 1))\n",
    "D = np.concatenate((D1, D2))\n",
    "A = np.hstack((one, D))\n",
    "\n",
    "# 製作y矩陣(true)\n",
    "y = []\n",
    "for i in range(N*2):\n",
    "    if i < N:   # 前面50個(D1)lable=0\n",
    "        y.append([0])\n",
    "    else:\n",
    "        y.append([1])\n",
    "y = np.array(y)\n",
    "\n",
    "# 製作初始權重w\n",
    "w0 = np.random.rand(3,1)\n"
   ]
  },
  {
   "cell_type": "markdown",
   "id": "aacedb66",
   "metadata": {},
   "source": [
    "##### gradient descent"
   ]
  },
  {
   "cell_type": "code",
   "execution_count": 7,
   "id": "5e271480",
   "metadata": {},
   "outputs": [],
   "source": [
    "def gradient_descent(A, y, w):\n",
    "    # gradient\n",
    "    J = np.array([10])\n",
    "    for i in range(100000):     \n",
    "        J = A.T@(y-(1/(1+np.exp(-A@w))))\n",
    "        if (J**2).sum() < 1e-5:      # 小於1e-5就停止(代表gradient很接近0)\n",
    "            break\n",
    "        else:\n",
    "            w = w + J                 # 更新權重\n",
    "    return w, i"
   ]
  },
  {
   "cell_type": "code",
   "execution_count": 8,
   "id": "6ae399fe",
   "metadata": {},
   "outputs": [
    {
     "name": "stderr",
     "output_type": "stream",
     "text": [
      "<ipython-input-7-92a14a288fd1>:5: RuntimeWarning: overflow encountered in exp\n",
      "  J = A.T@(y-(1/(1+np.exp(-A@w))))\n"
     ]
    },
    {
     "name": "stdout",
     "output_type": "stream",
     "text": [
      "第99999次收斂\n"
     ]
    }
   ],
   "source": [
    "# 用gradient descent得到最佳w\n",
    "w, i = gradient_descent(A, y, w0)\n",
    "print(\"第{}次收斂\".format(i))"
   ]
  },
  {
   "cell_type": "code",
   "execution_count": 9,
   "id": "3290a230",
   "metadata": {},
   "outputs": [
    {
     "name": "stderr",
     "output_type": "stream",
     "text": [
      "<ipython-input-9-713ac9de53c7>:10: RuntimeWarning: overflow encountered in exp\n",
      "  logistic_probability = 1/(1+np.exp(-A@w))\n"
     ]
    }
   ],
   "source": [
    "# label:0=紅色 1=藍色\n",
    "gradient_red = []\n",
    "gradient_blue = []\n",
    "TP = 0\n",
    "FP = 0\n",
    "FN = 0\n",
    "TN = 0\n",
    "\n",
    "# 因為是logistic function，所以假設機率>0.5:1\n",
    "logistic_probability = 1/(1+np.exp(-A@w)) \n",
    "for i, probability in enumerate(logistic_probability):\n",
    "    true = y[i][0]  # 真值\n",
    "    \n",
    "    # perception(感知器)\n",
    "    if probability < 0.5:\n",
    "        gradient_red.append(D[i])\n",
    "        pred = 0\n",
    "        if true == pred:\n",
    "            TP += 1\n",
    "        else:\n",
    "            FN += 1\n",
    "    else:\n",
    "        gradient_blue.append(D[i])\n",
    "        pred = 1\n",
    "        if true == pred:\n",
    "            TN += 1\n",
    "        else:\n",
    "            FP += 1\n",
    "        \n",
    "gradient_red = np.array(gradient_red)\n",
    "gradient_blue = np.array(gradient_blue)"
   ]
  },
  {
   "cell_type": "code",
   "execution_count": 10,
   "id": "eb942ae2",
   "metadata": {
    "scrolled": true
   },
   "outputs": [
    {
     "name": "stdout",
     "output_type": "stream",
     "text": [
      "Gradient descent:\n",
      "\n",
      "w:\n",
      " [[-3433.82101458]\n",
      " [  569.85151187]\n",
      " [  569.26942459]]\n",
      "\n",
      "Confusion Matrix: \n",
      "              Predict cluster 1  Predict cluster 2\n",
      "Is cluster 1                980                 20\n",
      "Is cluster 2                487                513\n",
      "\n",
      "Sensitivity (Successfully predict cluster 1): 0.98\n",
      "Specificity (Successfully predict cluster 2): 0.513\n"
     ]
    }
   ],
   "source": [
    "print(\"Gradient descent:\")\n",
    "print(\"\\nw:\\n\", w)\n",
    "print(\"\\nConfusion Matrix: \")\n",
    "confusion_matrix = pd.DataFrame([[TP,FP], [FN, TN]], index=(\"Is cluster 1\",\"Is cluster 2\"),columns=(\"Predict cluster 1\",\"Predict cluster 2\"))\n",
    "print(confusion_matrix)\n",
    "print()\n",
    "print(\"Sensitivity (Successfully predict cluster 1): {}\".format(TP/(TP+FP)))\n",
    "print(\"Specificity (Successfully predict cluster 2): {}\".format(TN/(FN+TN)))"
   ]
  },
  {
   "cell_type": "code",
   "execution_count": null,
   "id": "b55b9fd7",
   "metadata": {},
   "outputs": [],
   "source": []
  },
  {
   "cell_type": "code",
   "execution_count": null,
   "id": "c5f1c298",
   "metadata": {},
   "outputs": [],
   "source": []
  },
  {
   "cell_type": "markdown",
   "id": "a57d3c47",
   "metadata": {},
   "source": [
    "##### Newton's method"
   ]
  },
  {
   "cell_type": "code",
   "execution_count": 11,
   "id": "4d80a6d4",
   "metadata": {},
   "outputs": [],
   "source": [
    "def newton_method(A, y, w):\n",
    "    # 先找Hessian matrix\n",
    "    D = np.zeros((2*N, 2*N))\n",
    "    for i in range(2*N):\n",
    "        D[i, i] = np.exp(-A[i] @ w) / (1 + np.exp(-A[i] @ w))**2\n",
    "\n",
    "    H = A.T @ D @ A\n",
    "\n",
    "    # H為一半正定矩陣，並不保證可逆\n",
    "    H_inverse = inverse(H)\n",
    "    \n",
    "    # gradient\n",
    "    J = np.array([10])\n",
    "    for i in range(100000):     \n",
    "        J = H_inverse@A.T@(y-(1/(1+np.exp(-A@w))))\n",
    "        if (J**2).sum() < 1e-5:      # 小於1e-5就停止(代表gradient很接近0)\n",
    "            break\n",
    "        else:\n",
    "            w = w + J                # 更新權重\n",
    "        \n",
    "    return w, i"
   ]
  },
  {
   "cell_type": "code",
   "execution_count": 12,
   "id": "269fc35c",
   "metadata": {},
   "outputs": [
    {
     "name": "stdout",
     "output_type": "stream",
     "text": [
      "第99999次收斂\n"
     ]
    }
   ],
   "source": [
    "# 用newton method得到最佳w\n",
    "w, i = newton_method(A, y, w0)\n",
    "print(\"第{}次收斂\".format(i))"
   ]
  },
  {
   "cell_type": "code",
   "execution_count": 13,
   "id": "8f228e8a",
   "metadata": {},
   "outputs": [],
   "source": [
    "# label:0=紅色 1=藍色\n",
    "newton_red = []\n",
    "newton_blue = []\n",
    "TP = 0\n",
    "FP = 0\n",
    "FN = 0\n",
    "TN = 0\n",
    "\n",
    "# 因為是logistic function，所以假設機率>0.5:1\n",
    "logistic_probability = 1/(1+np.exp(-A@w)) \n",
    "for i, probability in enumerate(logistic_probability):\n",
    "    true = y[i][0]  # 真值\n",
    "    \n",
    "    if probability < 0.5:\n",
    "        newton_red.append(D[i])\n",
    "        pred = 0\n",
    "        if true == pred:\n",
    "            TP += 1\n",
    "        else:\n",
    "            FN += 1\n",
    "    else:\n",
    "        newton_blue.append(D[i])\n",
    "        pred = 1\n",
    "        if true == pred:\n",
    "            TN += 1\n",
    "        else:\n",
    "            FP += 1\n",
    "            \n",
    "newton_red = np.array(newton_red)\n",
    "newton_blue = np.array(newton_blue)"
   ]
  },
  {
   "cell_type": "code",
   "execution_count": 14,
   "id": "b9674fa1",
   "metadata": {
    "scrolled": true
   },
   "outputs": [
    {
     "name": "stdout",
     "output_type": "stream",
     "text": [
      "Newton's method:\n",
      "\n",
      "w:\n",
      " [[-12.69526807]\n",
      " [  1.73843174]\n",
      " [  1.87747535]]\n",
      "\n",
      "Confusion Matrix: \n",
      "              Predict cluster 1  Predict cluster 2\n",
      "Is cluster 1                998                  2\n",
      "Is cluster 2                618                382\n",
      "\n",
      "Sensitivity (Successfully predict cluster 1): 0.998\n",
      "Specificity (Successfully predict cluster 2): 0.382\n"
     ]
    }
   ],
   "source": [
    "print(\"Newton's method:\")\n",
    "print(\"\\nw:\\n\", w)\n",
    "print(\"\\nConfusion Matrix: \")\n",
    "confusion_matrix = pd.DataFrame([[TP,FP], [FN, TN]], index=(\"Is cluster 1\",\"Is cluster 2\"),columns=(\"Predict cluster 1\",\"Predict cluster 2\"))\n",
    "print(confusion_matrix)\n",
    "print()\n",
    "print(\"Sensitivity (Successfully predict cluster 1): {}\".format(TP/(TP+FP)))\n",
    "print(\"Specificity (Successfully predict cluster 2): {}\".format(TN/(FN+TN)))"
   ]
  },
  {
   "cell_type": "code",
   "execution_count": null,
   "id": "19d5f8de",
   "metadata": {},
   "outputs": [],
   "source": []
  },
  {
   "cell_type": "code",
   "execution_count": null,
   "id": "102680b4",
   "metadata": {},
   "outputs": [],
   "source": []
  },
  {
   "cell_type": "markdown",
   "id": "189aacca",
   "metadata": {},
   "source": [
    "# 畫圖"
   ]
  },
  {
   "cell_type": "code",
   "execution_count": 15,
   "id": "bef24662",
   "metadata": {},
   "outputs": [
    {
     "data": {
      "image/png": "[encoded data removed]",
      "text/plain": [
       "<Figure size 432x288 with 3 Axes>"
      ]
     },
     "metadata": {
      "needs_background": "light"
     },
     "output_type": "display_data"
    }
   ],
   "source": [
    "## Ground truth\n",
    "plt.subplot(131)\n",
    "plt.title(\"Ground truth\")\n",
    "plt.plot(D1[:,0], D1[:,1], 'ro')\n",
    "plt.plot(D2[:,0], D2[:,1], 'bo')\n",
    "\n",
    "## Gradient descent\n",
    "plt.subplot(132)\n",
    "plt.title(\"Gradient descent\")\n",
    "plt.plot(gradient_red[:,0], gradient_red[:,1], 'ro')\n",
    "plt.plot(gradient_blue[:,0], gradient_blue[:,1], 'bo')\n",
    "\n",
    "## Gradient descent\n",
    "plt.subplot(133)\n",
    "plt.title(\"Newton's method\")\n",
    "plt.plot(newton_red[:,0], newton_red[:,1], 'ro')\n",
    "plt.plot(newton_blue[:,0], newton_blue[:,1], 'bo')\n",
    "plt.show()"
   ]
  },
  {
   "cell_type": "code",
   "execution_count": null,
   "id": "99abd60d",
   "metadata": {
    "scrolled": true
   },
   "outputs": [],
   "source": []
  },
  {
   "cell_type": "code",
   "execution_count": null,
   "id": "2a343f59",
   "metadata": {},
   "outputs": [],
   "source": []
  }
 ],
 "metadata": {
  "kernelspec": {
   "display_name": "Python 3",
   "language": "python",
   "name": "python3"
  },
  "language_info": {
   "codemirror_mode": {
    "name": "ipython",
    "version": 3
   },
   "file_extension": ".py",
   "mimetype": "text/x-python",
   "name": "python",
   "nbconvert_exporter": "python",
   "pygments_lexer": "ipython3",
   "version": "3.8.8"
  }
 },
 "nbformat": 4,
 "nbformat_minor": 5
}
