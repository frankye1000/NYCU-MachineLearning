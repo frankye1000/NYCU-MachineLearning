{
 "cells": [
  {
   "cell_type": "markdown",
   "id": "e582d51d",
   "metadata": {},
   "source": [
    "# EM algorithm"
   ]
  },
  {
   "cell_type": "code",
   "execution_count": 5,
   "id": "1041047c",
   "metadata": {},
   "outputs": [],
   "source": [
    "import numpy as np\n",
    "from loadMnist import load_images, load_labels"
   ]
  },
  {
   "cell_type": "code",
   "execution_count": 6,
   "id": "1c87bf75",
   "metadata": {},
   "outputs": [],
   "source": [
    "# 讀資料\n",
    "train_data  = load_images(\"data/train-images.idx3-ubyte\")\n",
    "train_label = load_labels(\"data/train-labels.idx1-ubyte\")"
   ]
  },
  {
   "cell_type": "code",
   "execution_count": null,
   "id": "67ecd5b8",
   "metadata": {},
   "outputs": [],
   "source": []
  },
  {
   "cell_type": "code",
   "execution_count": 1,
   "id": "bc92278c",
   "metadata": {},
   "outputs": [],
   "source": [
    "# P0: 是9   出現灰度0的機率\n",
    "# P1: 不是9 出現灰度0的機率\n",
    "# Labda: 是9 出現機率\n",
    "    "
   ]
  },
  {
   "cell_type": "code",
   "execution_count": null,
   "id": "8a25beb2",
   "metadata": {},
   "outputs": [],
   "source": [
    "# TODO:\n",
    "# 算出每張圖片0 和 1的數量"
   ]
  },
  {
   "cell_type": "code",
   "execution_count": null,
   "id": "0ff4094e",
   "metadata": {},
   "outputs": [],
   "source": []
  },
  {
   "cell_type": "code",
   "execution_count": 3,
   "id": "1c905601",
   "metadata": {},
   "outputs": [],
   "source": [
    "# 假設初始值\n",
    "P0=0.5\n",
    "P1=0.5\n",
    "Lambda=0.5"
   ]
  },
  {
   "cell_type": "code",
   "execution_count": 4,
   "id": "6003fafd",
   "metadata": {},
   "outputs": [
    {
     "data": {
      "text/plain": [
       "0.5"
      ]
     },
     "execution_count": 4,
     "metadata": {},
     "output_type": "execute_result"
    }
   ],
   "source": [
    "# E step\n",
    "\n",
    "# 出現灰度0時，\n",
    "# 為\"是9\"的機率\n",
    "A = Lambda*P0/(Lambda*P0+(1-Lambda)*P0)\n",
    "# 為\"不是9\"的機率\n",
    "1-A\n",
    "\n",
    "# 出現灰度1時，\n",
    "# 為\"是9\"的機率\n",
    "B = Lambda*(1-P0)/(Lambda*(1-P0)+(1-Lambda)*(1-P1))\n",
    "# 為\"不是9\"的機率\n",
    "1-B"
   ]
  },
  {
   "cell_type": "code",
   "execution_count": null,
   "id": "09be5450",
   "metadata": {},
   "outputs": [],
   "source": [
    "# M step\n"
   ]
  }
 ],
 "metadata": {
  "kernelspec": {
   "display_name": "Python 3",
   "language": "python",
   "name": "python3"
  },
  "language_info": {
   "codemirror_mode": {
    "name": "ipython",
    "version": 3
   },
   "file_extension": ".py",
   "mimetype": "text/x-python",
   "name": "python",
   "nbconvert_exporter": "python",
   "pygments_lexer": "ipython3",
   "version": "3.8.8"
  }
 },
 "nbformat": 4,
 "nbformat_minor": 5
}
